{
 "cells": [
  {
   "cell_type": "markdown",
   "metadata": {},
   "source": [
    "# row, column文件使用注意\n",
    "|英文名稱|臺灣|大陸|\n",
    "|:-:|:-:|:-:|\n",
    "|row|列|行|\n",
    "|column|行|列|\n",
    "\n",
    "\n",
    "> 先列row後行column <br>\n",
    "> axis = 0 沿row方向(樣本數幾個)<br>\n",
    "> axis = 1 沿column方向(幾個特徵)<br>\n",
    "\n",
    "# one axis\n",
    "[1,3,5]  #三個元素(three elements),長度為3(lenth is three)\n",
    "\n",
    "# two axes \n",
    "axis = 0 -> 2  The first axis has a length of 2 <br>\n",
    "axis = 1 -> 3  The second axis has a lenght of 3 <br>\n",
    "[[1,3,5],   \n",
    " [2,4,6]]"
   ]
  },
  {
   "cell_type": "code",
   "execution_count": 2,
   "metadata": {},
   "outputs": [
    {
     "name": "stdout",
     "output_type": "stream",
     "text": [
      "[0 1 2]\n",
      "<class 'numpy.ndarray'>\n",
      "[0. 1. 2.]\n",
      "[1 2 3 4 5 6 7 8 9]\n"
     ]
    }
   ],
   "source": [
    "import numpy as np\n",
    "\n",
    "x = np.arange(3) # x=[0 1 2]\n",
    "print(x)\n",
    "print(type(x)) # output <class 'numpy.ndarray'>\n",
    "# ndarry 可以多維但同值大小，同個Type\n",
    "# array 只能有一維\n",
    "# check x is np.ndarray or not\n",
    "isinstance(x,np.ndarray) # True\n",
    "# be float64 type\n",
    "y = np.arange(3,dtype='float64') # y=[0. 1. 2.]\n",
    "print(y)\n",
    "\n",
    "# create list to transfer to np array\n",
    "use_list = [1,2,3,4,5,6,7,8,9]\n",
    "np_use_list = np.array(use_list)\n",
    "print(np_use_list)"
   ]
  },
  {
   "cell_type": "code",
   "execution_count": 18,
   "metadata": {},
   "outputs": [
    {
     "name": "stdout",
     "output_type": "stream",
     "text": [
      "[[ 0  1  2  3]\n",
      " [ 4  5  6  7]\n",
      " [ 8  9 10 11]]\n",
      "[0. 0. 0. 0. 0.]\n"
     ]
    }
   ],
   "source": [
    "# np.zeros\n",
    "x = np.arange(12) #[0 1 2 3 4 5 6 7 8 9 10 11]\n",
    "x = np.arange(12).reshape(3,4) \n",
    "# [[0 1  2  3]   -> axis = 0 ->3\n",
    "#  [4 5  6  7]   -> axis = 1 ->4\n",
    "#  [8 9 10 11]]  -> x.shape = (3,4) 先列後行\n",
    "print(x)\n",
    "y = x.shape[1] # 取x.shape tuple的第二個數值\n",
    "z = np.zeros(y+1)\n",
    "print(z)"
   ]
  },
  {
   "cell_type": "code",
   "execution_count": 5,
   "metadata": {},
   "outputs": [
    {
     "name": "stdout",
     "output_type": "stream",
     "text": [
      "原始 [0 1 2 3 4 5 6 7 8 9]\n",
      "條件 [0 0 0 0 0 0 1 1 1 1]\n"
     ]
    }
   ],
   "source": [
    "# np.where(condition,x,y)\n",
    "# 滿足條件conditon輸出x,不滿足輸出y\n",
    "a = np.arange(10) \n",
    "print(\"原始\",a)\n",
    "a = np.where(a>5,1,0)\n",
    "print(\"條件\",a)"
   ]
  },
  {
   "cell_type": "code",
   "execution_count": 9,
   "metadata": {},
   "outputs": [
    {
     "data": {
      "text/plain": [
       "array([1, 2, 3, 4, 5, 1, 2, 3, 4, 5, 1, 2, 3, 4, 5, 1, 2, 3, 4, 5, 1, 2,\n",
       "       3, 4, 5])"
      ]
     },
     "execution_count": 9,
     "metadata": {},
     "output_type": "execute_result"
    }
   ],
   "source": [
    "import numpy as np\n",
    "x=[1,2,3,4,5]\n",
    "y=[6,7,8,9,10]\n",
    "x1,x2 = np.meshgrid(np.arange(1,6,1),np.arange(6,11,1))\n",
    "x1.ravel()"
   ]
  },
  {
   "cell_type": "code",
   "execution_count": 10,
   "metadata": {},
   "outputs": [
    {
     "data": {
      "text/plain": [
       "array([ 6,  6,  6,  6,  6,  7,  7,  7,  7,  7,  8,  8,  8,  8,  8,  9,  9,\n",
       "        9,  9,  9, 10, 10, 10, 10, 10])"
      ]
     },
     "execution_count": 10,
     "metadata": {},
     "output_type": "execute_result"
    }
   ],
   "source": [
    "x2.ravel()"
   ]
  },
  {
   "cell_type": "code",
   "execution_count": null,
   "metadata": {},
   "outputs": [],
   "source": []
  }
 ],
 "metadata": {
  "interpreter": {
   "hash": "3de59ade2ee4eabf8d6554090db31bdd94608df00f05391c2d316a7da62ee3f6"
  },
  "kernelspec": {
   "display_name": "Python 3.8.8 64-bit ('base': conda)",
   "name": "python3"
  },
  "language_info": {
   "codemirror_mode": {
    "name": "ipython",
    "version": 3
   },
   "file_extension": ".py",
   "mimetype": "text/x-python",
   "name": "python",
   "nbconvert_exporter": "python",
   "pygments_lexer": "ipython3",
   "version": "3.8.8"
  },
  "orig_nbformat": 4
 },
 "nbformat": 4,
 "nbformat_minor": 2
}
