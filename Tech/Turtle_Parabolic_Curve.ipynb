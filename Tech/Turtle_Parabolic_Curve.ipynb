{
 "cells": [
  {
   "cell_type": "markdown",
   "source": [
    "# MarkDown與Jupyter NoteBook於VSCode \r\n",
    "\r\n",
    "## -內容如下\r\n",
    "> OpenDate:2021-09-17<br>\r\n",
    "> IDE:Jupyter Notebook in Visual Studio Code<br>\r\n",
    "> Code:Markdown and Python<br>\r\n",
    "> Author:柴犬陪唸書 <br>\r\n",
    "\r\n",
    "## -題目\r\n",
    "> 利用Python的Turtle模組畫出<br>\r\n",
    "> $f(x)= y = \\frac{1}{200} x^2$\r\n"
   ],
   "metadata": {}
  },
  {
   "cell_type": "code",
   "execution_count": 3,
   "source": [
    "import turtle\r\n",
    "\r\n",
    "# 繪製X軸\r\n",
    "turtle.penup() #拿起筆\r\n",
    "turtle.goto(-210,0) #移至位置\r\n",
    "turtle.pendown() #放下筆\r\n",
    "turtle.forward(420) #向前畫\r\n",
    "\r\n",
    "#繪製Y軸\r\n",
    "turtle.penup()\r\n",
    "turtle.goto(0,210)\r\n",
    "turtle.pendown()\r\n",
    "turtle.right(90) #向右旋轉90度\r\n",
    "turtle.forward(420)\r\n",
    "\r\n",
    "#根據方程式畫出拋物線\r\n",
    "#起始畫筆的位置\r\n",
    "x1 = -200\r\n",
    "y1 =(1/200)*x1*x1\r\n",
    "turtle.penup()\r\n",
    "turtle.goto(x1,y1)\r\n",
    "turtle.pendown()\r\n",
    "#開始利用迴圈和不提筆的移動畫線\r\n",
    "for i in range(-199,201):\r\n",
    "    x2=i\r\n",
    "    y2=(1/200)*x2*x2\r\n",
    "    turtle.goto(x2,y2)\r\n",
    "    x1=x2\r\n",
    "#畫上X軸文字\r\n",
    "turtle.penup()\r\n",
    "turtle.goto(210,-10)\r\n",
    "turtle.pendown()\r\n",
    "turtle.write(\"X軸\",font=(\"Arial\",16,\"normal\"))\r\n",
    "#畫上Y軸文字\r\n",
    "turtle.penup()\r\n",
    "turtle.goto(-10,210)\r\n",
    "turtle.pendown()\r\n",
    "turtle.write(\"Y軸\",font=(\"Arial\",16,\"normal\"))\r\n",
    "#將Turtle隱藏\r\n",
    "turtle.hideturtle()\r\n",
    "#將Turtle顯示\r\n",
    "turtle.showturtle()"
   ],
   "outputs": [],
   "metadata": {}
  },
  {
   "cell_type": "markdown",
   "source": [
    "## -參考資料\r\n",
    ">- [LaTex：用在數學式上](https://www.cs.pu.edu.tw/~wckuo/doc/latex123/node11.html)\r\n",
    ">- [Jupyter_NoteBook_in_VSCode](https://code.visualstudio.com/docs/datascience/jupyter-notebooks)\r\n",
    ">- ISBN:9789863124375"
   ],
   "metadata": {}
  }
 ],
 "metadata": {
  "orig_nbformat": 4,
  "language_info": {
   "name": "python",
   "version": "3.8.8",
   "mimetype": "text/x-python",
   "codemirror_mode": {
    "name": "ipython",
    "version": 3
   },
   "pygments_lexer": "ipython3",
   "nbconvert_exporter": "python",
   "file_extension": ".py"
  },
  "kernelspec": {
   "name": "python3",
   "display_name": "Python 3.8.8 64-bit ('base': conda)"
  },
  "interpreter": {
   "hash": "3de59ade2ee4eabf8d6554090db31bdd94608df00f05391c2d316a7da62ee3f6"
  }
 },
 "nbformat": 4,
 "nbformat_minor": 2
}